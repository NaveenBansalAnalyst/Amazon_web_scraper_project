{
 "cells": [
  {
   "cell_type": "markdown",
   "id": "531d8883",
   "metadata": {},
   "source": [
    "# Amazon web scraper"
   ]
  },
  {
   "cell_type": "code",
   "execution_count": 1,
   "id": "8e1e41b9",
   "metadata": {},
   "outputs": [],
   "source": [
    "import csv\n",
    "from bs4 import BeautifulSoup"
   ]
  },
  {
   "cell_type": "code",
   "execution_count": 2,
   "id": "f171e4c1",
   "metadata": {},
   "outputs": [],
   "source": [
    "from selenium import webdriver"
   ]
  },
  {
   "cell_type": "markdown",
   "id": "ff826cb4",
   "metadata": {},
   "source": [
    "# Starting up the web driver"
   ]
  },
  {
   "cell_type": "code",
   "execution_count": 3,
   "id": "1aa5f1be",
   "metadata": {},
   "outputs": [],
   "source": [
    "driver = webdriver.Chrome()"
   ]
  },
  {
   "cell_type": "code",
   "execution_count": 4,
   "id": "3f242750",
   "metadata": {},
   "outputs": [],
   "source": [
    "url = 'https://www.amazon.in'\n",
    "driver.get(url)"
   ]
  },
  {
   "cell_type": "code",
   "execution_count": 5,
   "id": "7e410243",
   "metadata": {},
   "outputs": [],
   "source": [
    "def get_url(search_term):\n",
    "    template = 'https://www.amazon.in/s?k={}&crid=20LK9C77DTUF2&sprefix={}%2Caps%2C225&ref=nb_sb_noss_1'\n",
    "    search_term = search_term.replace(' ', '+')\n",
    "    return template.format(search_term, search_term)"
   ]
  },
  {
   "cell_type": "code",
   "execution_count": 6,
   "id": "200fbfa6",
   "metadata": {},
   "outputs": [
    {
     "name": "stdout",
     "output_type": "stream",
     "text": [
      "https://www.amazon.in/s?k=ultrawide+monitors&crid=20LK9C77DTUF2&sprefix=ultrawide+monitors%2Caps%2C225&ref=nb_sb_noss_1\n"
     ]
    }
   ],
   "source": [
    "url = get_url('ultrawide monitors')\n",
    "print(url)"
   ]
  },
  {
   "cell_type": "code",
   "execution_count": 7,
   "id": "d1519215",
   "metadata": {},
   "outputs": [],
   "source": [
    "driver.get(url)"
   ]
  },
  {
   "cell_type": "markdown",
   "id": "f115b054",
   "metadata": {},
   "source": [
    "# Extracting the data"
   ]
  },
  {
   "cell_type": "code",
   "execution_count": 8,
   "id": "3ac631e7",
   "metadata": {},
   "outputs": [],
   "source": [
    "soup = BeautifulSoup(driver.page_source, 'html.parser')"
   ]
  },
  {
   "cell_type": "code",
   "execution_count": 9,
   "id": "86d51720",
   "metadata": {},
   "outputs": [
    {
     "data": {
      "text/plain": [
       "22"
      ]
     },
     "execution_count": 9,
     "metadata": {},
     "output_type": "execute_result"
    }
   ],
   "source": [
    "results = soup.find_all('div', {'data-component-type' : 's-search-result'})\n",
    "len(results)"
   ]
  },
  {
   "cell_type": "markdown",
   "id": "c9f4ac3d",
   "metadata": {},
   "source": [
    "# Prototype the record"
   ]
  },
  {
   "cell_type": "code",
   "execution_count": 10,
   "id": "554db744",
   "metadata": {},
   "outputs": [],
   "source": [
    "item = results[0]\n"
   ]
  },
  {
   "cell_type": "code",
   "execution_count": 11,
   "id": "2ab851c2",
   "metadata": {},
   "outputs": [],
   "source": [
    "atag = item.h2.a"
   ]
  },
  {
   "cell_type": "code",
   "execution_count": 12,
   "id": "95ae7764",
   "metadata": {},
   "outputs": [],
   "source": [
    "description = atag.text.strip()"
   ]
  },
  {
   "cell_type": "code",
   "execution_count": 13,
   "id": "8f61f77a",
   "metadata": {},
   "outputs": [],
   "source": [
    "url = 'https://www.amazon.in' + atag.get('href')"
   ]
  },
  {
   "cell_type": "code",
   "execution_count": 14,
   "id": "5b7842f0",
   "metadata": {},
   "outputs": [],
   "source": [
    "price_parent = item.find('span', 'a-price')\n",
    "price = price_parent.find('span', 'a-offscreen').text"
   ]
  },
  {
   "cell_type": "code",
   "execution_count": 15,
   "id": "e326c53e",
   "metadata": {},
   "outputs": [],
   "source": [
    "rating = item.i.text"
   ]
  },
  {
   "cell_type": "code",
   "execution_count": 16,
   "id": "714903af",
   "metadata": {},
   "outputs": [],
   "source": [
    "review_count = item.find('span', {'class': 'a-size-base s-underline-text'}).text\n",
    "\n"
   ]
  },
  {
   "cell_type": "markdown",
   "id": "629baa09",
   "metadata": {},
   "source": [
    "# Generalize the pattern"
   ]
  },
  {
   "cell_type": "code",
   "execution_count": 17,
   "id": "c8fb979a",
   "metadata": {},
   "outputs": [],
   "source": [
    "def extract_record(item):\n",
    "    atag = item.h2.a\n",
    "    description = atag.text.strip()\n",
    "    url = 'https://www.amazon.in' + atag.get('href')\n",
    "    \n",
    "    price_parent = item.find('span', 'a-price')\n",
    "    price = price_parent.find('span', 'a-offscreen').text\n",
    "    rating = item.i.text\n",
    "\n",
    "    review_count = item.find('span', {'class': 'a-size-base s-underline-text'}).text\n",
    "    \n",
    "    result = (description, url, price, rating, review_count)\n",
    "    return result"
   ]
  },
  {
   "cell_type": "code",
   "execution_count": 18,
   "id": "a3366a5c",
   "metadata": {},
   "outputs": [
    {
     "ename": "AttributeError",
     "evalue": "'NoneType' object has no attribute 'find'",
     "output_type": "error",
     "traceback": [
      "\u001b[1;31m---------------------------------------------------------------------------\u001b[0m",
      "\u001b[1;31mAttributeError\u001b[0m                            Traceback (most recent call last)",
      "\u001b[1;32m~\\AppData\\Local\\Temp\\ipykernel_24548\\425042858.py\u001b[0m in \u001b[0;36m<module>\u001b[1;34m\u001b[0m\n\u001b[0;32m      3\u001b[0m \u001b[1;33m\u001b[0m\u001b[0m\n\u001b[0;32m      4\u001b[0m \u001b[1;32mfor\u001b[0m \u001b[0mitem\u001b[0m \u001b[1;32min\u001b[0m \u001b[0mresults\u001b[0m\u001b[1;33m:\u001b[0m\u001b[1;33m\u001b[0m\u001b[1;33m\u001b[0m\u001b[0m\n\u001b[1;32m----> 5\u001b[1;33m     \u001b[0mrecords\u001b[0m\u001b[1;33m.\u001b[0m\u001b[0mappend\u001b[0m\u001b[1;33m(\u001b[0m\u001b[0mextract_record\u001b[0m\u001b[1;33m(\u001b[0m\u001b[0mitem\u001b[0m\u001b[1;33m)\u001b[0m\u001b[1;33m)\u001b[0m\u001b[1;33m\u001b[0m\u001b[1;33m\u001b[0m\u001b[0m\n\u001b[0m",
      "\u001b[1;32m~\\AppData\\Local\\Temp\\ipykernel_24548\\261588700.py\u001b[0m in \u001b[0;36mextract_record\u001b[1;34m(item)\u001b[0m\n\u001b[0;32m      5\u001b[0m \u001b[1;33m\u001b[0m\u001b[0m\n\u001b[0;32m      6\u001b[0m     \u001b[0mprice_parent\u001b[0m \u001b[1;33m=\u001b[0m \u001b[0mitem\u001b[0m\u001b[1;33m.\u001b[0m\u001b[0mfind\u001b[0m\u001b[1;33m(\u001b[0m\u001b[1;34m'span'\u001b[0m\u001b[1;33m,\u001b[0m \u001b[1;34m'a-price'\u001b[0m\u001b[1;33m)\u001b[0m\u001b[1;33m\u001b[0m\u001b[1;33m\u001b[0m\u001b[0m\n\u001b[1;32m----> 7\u001b[1;33m     \u001b[0mprice\u001b[0m \u001b[1;33m=\u001b[0m \u001b[0mprice_parent\u001b[0m\u001b[1;33m.\u001b[0m\u001b[0mfind\u001b[0m\u001b[1;33m(\u001b[0m\u001b[1;34m'span'\u001b[0m\u001b[1;33m,\u001b[0m \u001b[1;34m'a-offscreen'\u001b[0m\u001b[1;33m)\u001b[0m\u001b[1;33m.\u001b[0m\u001b[0mtext\u001b[0m\u001b[1;33m\u001b[0m\u001b[1;33m\u001b[0m\u001b[0m\n\u001b[0m\u001b[0;32m      8\u001b[0m     \u001b[0mrating\u001b[0m \u001b[1;33m=\u001b[0m \u001b[0mitem\u001b[0m\u001b[1;33m.\u001b[0m\u001b[0mi\u001b[0m\u001b[1;33m.\u001b[0m\u001b[0mtext\u001b[0m\u001b[1;33m\u001b[0m\u001b[1;33m\u001b[0m\u001b[0m\n\u001b[0;32m      9\u001b[0m \u001b[1;33m\u001b[0m\u001b[0m\n",
      "\u001b[1;31mAttributeError\u001b[0m: 'NoneType' object has no attribute 'find'"
     ]
    }
   ],
   "source": [
    "records = []\n",
    "results = soup.find_all('div', {'data-component-type' : 's-search-result'})\n",
    "\n",
    "for item in results:\n",
    "    records.append(extract_record(item))"
   ]
  },
  {
   "cell_type": "markdown",
   "id": "75a65daa",
   "metadata": {},
   "source": [
    "# Error handling"
   ]
  },
  {
   "cell_type": "code",
   "execution_count": 18,
   "id": "5db86bb3",
   "metadata": {},
   "outputs": [],
   "source": [
    "def extract_record(item):\n",
    "    atag = item.h2.a\n",
    "    description = atag.text.strip()\n",
    "    url = 'https://www.amazon.in' + atag.get('href')\n",
    "    \n",
    "    try:\n",
    "        price_parent = item.find('span', 'a-price')\n",
    "        price = price_parent.find('span', 'a-offscreen').text\n",
    "    except AttributeError:\n",
    "        return\n",
    "    try:\n",
    "        rating = item.i.text\n",
    "\n",
    "        review_count = item.find('span', {'class': 'a-size-base s-underline-text'}).text\n",
    "    except AttributeError:\n",
    "        rating = ''\n",
    "        review_count = ''\n",
    "    result = (description, url, price, rating, review_count)\n",
    "    return result"
   ]
  },
  {
   "cell_type": "code",
   "execution_count": 19,
   "id": "e9688b29",
   "metadata": {},
   "outputs": [],
   "source": [
    "records = []\n",
    "results = soup.find_all('div', {'data-component-type' : 's-search-result'})\n",
    "\n",
    "for item in results:\n",
    "    record = extract_record(item)\n",
    "    if record:\n",
    "        records.append(record)\n",
    "        \n",
    " "
   ]
  },
  {
   "cell_type": "code",
   "execution_count": 20,
   "id": "d95fa882",
   "metadata": {},
   "outputs": [
    {
     "data": {
      "text/plain": [
       "('Acer CB342CK 34 Inch (86.36 Cm) IPS Ultrawide (21:9) QHD 3440 X 1440 LCD Monitor with LED Backlight I AMD Radeon Freesync I HDR Ready, 1MS VRB I 75Hz Refresh | Pivot I Eye Care Features, (Silver)',\n",
       " 'https://www.amazon.in/Acer-CB342CK-UltraWide-FREESYNC-Technology/dp/B09LD6HV1Q/ref=sr_1_9?crid=20LK9C77DTUF2&keywords=ultrawide+monitors&qid=1672488685&sprefix=ultrawide+monitors%2Caps%2C225&sr=8-9',\n",
       " '₹28,990',\n",
       " '4.2 out of 5 stars',\n",
       " '(131)')"
      ]
     },
     "execution_count": 20,
     "metadata": {},
     "output_type": "execute_result"
    }
   ],
   "source": [
    "records[8]"
   ]
  },
  {
   "cell_type": "code",
   "execution_count": 21,
   "id": "2a813e6b",
   "metadata": {},
   "outputs": [
    {
     "name": "stdout",
     "output_type": "stream",
     "text": [
      "₹35,777\n",
      "₹38,333\n",
      "₹17,100\n",
      "₹17,999\n",
      "₹21,990\n",
      "₹27,711\n",
      "₹20,888\n",
      "₹20,177\n",
      "₹28,990\n",
      "₹28,900\n",
      "₹73,600\n",
      "₹8,349\n",
      "₹45,890\n",
      "₹38,333\n",
      "₹17,480\n",
      "₹39,926\n",
      "₹69,990\n",
      "₹15,990\n",
      "₹17,199\n",
      "₹7,999\n"
     ]
    }
   ],
   "source": [
    "for row in records:\n",
    "    print(row[2])"
   ]
  },
  {
   "cell_type": "markdown",
   "id": "9c9fa5d7",
   "metadata": {},
   "source": [
    "# Getting the next page"
   ]
  },
  {
   "cell_type": "code",
   "execution_count": 22,
   "id": "1b0cc714",
   "metadata": {},
   "outputs": [],
   "source": [
    "def get_url(search_term):\n",
    "    template = 'https://www.amazon.in/s?k={}&crid=20LK9C77DTUF2&sprefix={}%2Caps%2C225&ref=nb_sb_noss_1'\n",
    "    search_term = search_term.replace(' ', '+')\n",
    "    url = template.format(search_term, search_term)\n",
    "    \n",
    "    url += '&page={}'\n",
    "    \n",
    "    return url"
   ]
  },
  {
   "cell_type": "markdown",
   "id": "e56b6a15",
   "metadata": {},
   "source": [
    "# Putting it all together"
   ]
  },
  {
   "cell_type": "code",
   "execution_count": 27,
   "id": "29276c89",
   "metadata": {},
   "outputs": [],
   "source": [
    "import csv\n",
    "from bs4 import BeautifulSoup\n",
    "\n",
    "from selenium import webdriver\n",
    "\n",
    "def get_url(search_term):\n",
    "    template = 'https://www.amazon.in/s?k={}&crid=20LK9C77DTUF2&sprefix={}%2Caps%2C225&ref=nb_sb_noss_1'\n",
    "    search_term = search_term.replace(' ', '+')\n",
    "    url = template.format(search_term, search_term)\n",
    "    \n",
    "    url += '&page={}'\n",
    "    \n",
    "    return url\n",
    "\n",
    "def extract_record(item):\n",
    "    atag = item.h2.a\n",
    "    description = atag.text.strip()\n",
    "    url = 'https://www.amazon.in' + atag.get('href')\n",
    "    \n",
    "    try:\n",
    "        price_parent = item.find('span', 'a-price')\n",
    "        price = price_parent.find('span', 'a-offscreen').text\n",
    "    except AttributeError:\n",
    "        return\n",
    "    try:\n",
    "        rating = item.i.text\n",
    "\n",
    "        review_count = item.find('span', {'class': 'a-size-base s-underline-text'}).text\n",
    "    except AttributeError:\n",
    "        rating = ''\n",
    "        review_count = ''\n",
    "    result = (description, url, price, rating, review_count)\n",
    "    return result\n",
    "\n",
    "def main(search_term):\n",
    "    \n",
    "    #startup the web driver\n",
    "    \n",
    "    driver = webdriver.Chrome()\n",
    "    \n",
    "    records = []\n",
    "    url = get_url(search_term)\n",
    "    \n",
    "    for page in range(1, 21):\n",
    "        driver.get(url.format(page))\n",
    "        soup = BeautifulSoup(driver.page_source, 'html.parser')\n",
    "        results = soup.find_all('div', {'data-component-type' : 's-search-result'})\n",
    "        \n",
    "        for item in results:\n",
    "            record = extract_record(item)\n",
    "            if record:\n",
    "                records.append(record)\n",
    "    \n",
    "    \n",
    "    driver.close()\n",
    "    \n",
    "    #saving the results to a csv file\n",
    "    \n",
    "    with open('results.csv', 'w', newline='', encoding='UTF8') as f:\n",
    "        writer = csv.writer(f)\n",
    "        writer.writerow(['Description', 'URL', 'Price', 'Rating', 'Review Count'])\n",
    "        writer.writerows(records)\n",
    "            \n",
    "        "
   ]
  },
  {
   "cell_type": "code",
   "execution_count": 28,
   "id": "8955a809",
   "metadata": {},
   "outputs": [],
   "source": [
    "main('ultrawide monitors')"
   ]
  },
  {
   "cell_type": "code",
   "execution_count": null,
   "id": "a0658764",
   "metadata": {},
   "outputs": [],
   "source": []
  }
 ],
 "metadata": {
  "kernelspec": {
   "display_name": "Python 3 (ipykernel)",
   "language": "python",
   "name": "python3"
  },
  "language_info": {
   "codemirror_mode": {
    "name": "ipython",
    "version": 3
   },
   "file_extension": ".py",
   "mimetype": "text/x-python",
   "name": "python",
   "nbconvert_exporter": "python",
   "pygments_lexer": "ipython3",
   "version": "3.9.13"
  }
 },
 "nbformat": 4,
 "nbformat_minor": 5
}
